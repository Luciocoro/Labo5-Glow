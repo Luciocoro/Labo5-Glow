{
 "cells": [
  {
   "cell_type": "code",
   "execution_count": 55,
   "metadata": {},
   "outputs": [],
   "source": [
    "import numpy as np\n",
    "import matplotlib.pyplot as plt\n",
    "import pandas as pd\n",
    "from os import listdir\n",
    "from os.path import isfile, join\n",
    "from math import gcd\n"
   ]
  },
  {
   "cell_type": "code",
   "execution_count": 36,
   "metadata": {},
   "outputs": [
    {
     "data": {
      "image/png": "[encoded data removed]",
      "text/plain": [
       "<Figure size 1200x500 with 1 Axes>"
      ]
     },
     "metadata": {},
     "output_type": "display_data"
    }
   ],
   "source": [
    "nro_medicion = 50\n",
    "path = f'./25-10/Medición nro {nro_medicion}.csv'\n",
    "# Labo 5-GLOW\\Labo5-Glow\\25-10\\Medición nro 20.csv\n",
    "df = pd.read_csv(path)\n",
    "\n",
    "I = df['I'].values\n",
    "V = df['V'].values\n",
    "\n",
    "\n",
    "fig, ax = plt.subplots(figsize = (12,5))\n",
    "\n",
    "ax.scatter(I,V, color = 'cornflowerblue');\n",
    "fig.savefig(f'./25-10/Figuras/Medición nro {nro_medicion}',dpi = 800,format = 'png')"
   ]
  },
  {
   "cell_type": "markdown",
   "metadata": {},
   "source": [
    "Levanta todas las figuras de las mediciones"
   ]
  },
  {
   "cell_type": "code",
   "execution_count": 39,
   "metadata": {},
   "outputs": [
    {
     "name": "stdout",
     "output_type": "stream",
     "text": [
      "['Medición nro 20.csv', 'Medición nro 21.csv', 'Medición nro 22.csv', 'Medición nro 23.csv', 'Medición nro 24.csv', 'Medición nro 25.csv', 'Medición nro 26 (1).csv', 'Medición nro 26.csv', 'Medición nro 27 (1).csv', 'Medición nro 27.csv', 'Medición nro 28 (1).csv', 'Medición nro 28.csv', 'Medición nro 30 (1).csv', 'Medición nro 30.csv', 'Medición nro 31 (1).csv', 'Medición nro 31.csv', 'Medición nro 32 (1).csv', 'Medición nro 32.csv', 'Medición nro 33 (1).csv', 'Medición nro 33.csv', 'Medición nro 34.csv', 'Medición nro 35.csv', 'Medición nro 36.csv', 'Medición nro 37.csv', 'Medición nro 42.csv', 'Medición nro 50.csv', 'Medición nro 51.csv', 'Medición nro 52.csv', 'Medición nro 53.csv', 'Medición nro 54.csv', 'Medición nro 55.csv', 'Medición nro 56.csv', 'Medición nro 57.csv', 'Medición nro 60.csv', 'Medición nro 61.csv', 'Medición nro 62.csv', 'Medición nro 63.csv', 'Medición nro 64.csv']\n"
     ]
    }
   ],
   "source": [
    "path = f'./25-10' # Foldder where measurements are\n",
    "onlyfiles = [file for file in listdir(path) if isfile(join(path, file))] #isfile returns a boolean if the specified path is a file or not\n",
    "print(onlyfiles)"
   ]
  },
  {
   "cell_type": "code",
   "execution_count": 50,
   "metadata": {},
   "outputs": [],
   "source": [
    "fnt_size = 18\n",
    "\n",
    "for file in onlyfiles:\n",
    "\n",
    "    df = pd.read_csv(join(path,file))\n",
    "    I = df['I'].values\n",
    "    V = df['V'].values\n",
    "\n",
    "\n",
    "    fig, ax = plt.subplots(figsize = (12,5))\n",
    "\n",
    "    ax.scatter(I,V,color = 'cornflowerblue')\n",
    "\n",
    "    ax.set_title(f'{file}',fontsize = fnt_size + 2)\n",
    "    ax.set_xlabel('Corriente [A]',fontsize = fnt_size)\n",
    "    ax.set_ylabel('Voltaje suministrado [V]',fontsize = fnt_size)\n",
    "    ax.grid()\n",
    "    ax.grid(alpha = 0.7)\n",
    "    ax.set_xlim(min(I),max(I))\n",
    "    ax.minorticks_on()\n",
    "\n",
    "    fig_format = 'png'\n",
    "    fig_path = f'{file.rstrip(\".csv\")}.{fig_format}'\n",
    "\n",
    "    fig.savefig(f'./25-10/Figuras/{fig_path}',dpi = 800, bbox_inches = 'tight')\n",
    "    plt.close(fig) #Closes the fig instance so as to not use to much memory "
   ]
  },
  {
   "cell_type": "markdown",
   "metadata": {},
   "source": [
    "Curvas de Paschen ------------------------------------------------------------------------------------------"
   ]
  },
  {
   "cell_type": "code",
   "execution_count": 166,
   "metadata": {},
   "outputs": [
    {
     "name": "stdout",
     "output_type": "stream",
     "text": [
      "['Medición nro 30.csv', 'Medición nro 32.csv', 'Medición nro 33.csv', 'Medición nro 34.csv', 'Medición nro 35.csv', 'Medición nro 36.csv', 'Medición nro 37.csv', 'Medición nro 42.csv', 'Medición nro 50.csv', 'Medición nro 51.csv', 'Medición nro 52.csv', 'Medición nro 53.csv', 'Medición nro 54.csv', 'Medición nro 55.csv', 'Medición nro 56.csv', 'Medición nro 57.csv', 'Medición nro 60.csv', 'Medición nro 61.csv', 'Medición nro 62.csv', 'Medición nro 63.csv', 'Medición nro 64.csv']\n"
     ]
    }
   ],
   "source": [
    "path = f'./25-10/Mediciones Paschen' # Foldder where measurements are\n",
    "onlyfiles = [file for file in listdir(path) if isfile(join(path, file))] #isfile returns a boolean if the specified path is a file or not\n",
    "print(onlyfiles)"
   ]
  },
  {
   "cell_type": "code",
   "execution_count": 167,
   "metadata": {},
   "outputs": [],
   "source": [
    "V_ruptura = np.array([])\n",
    "paschen_nr = np.array([])\n",
    "for file in onlyfiles:\n",
    "    # print(f'{file}')\n",
    "    df = pd.read_csv(join(path,file))\n",
    "    I = df['I'].values\n",
    "    V = df['V'].values\n",
    "    d = df['Distancia'].values\n",
    "    P = df['P'].values\n",
    "    mean_pressure = np.mean(P)*0.750062\n",
    "    i = 0\n",
    "    while I[i] < 10**(-6):\n",
    "        # print(f'i:{i}')\n",
    "        # print(f'V:{V[i]} I:{I[i]}')\n",
    "        i += 1\n",
    "    # print(f'exit i: {i}')\n",
    "    V_ruptura = np.append(V_ruptura,V[i-1])\n",
    "    paschen_nr = np.append(paschen_nr,mean_pressure*d[0])\n",
    "    # print(f'V Ruptura: {V_ruptura[-1]} pd: {[paschen_nr[-1]]}')\n",
    "\n",
    "    graficar = False\n",
    "\n",
    "    if graficar:\n",
    "        fig, ax = plt.subplots(figsize = (12,7))\n",
    "\n",
    "        ax.set_title(f'{file}',fontsize = fnt_size + 2)\n",
    "        ax.set_xlabel('Corriente [A]',fontsize = fnt_size)\n",
    "        ax.set_ylabel('Voltaje suministrado [V]',fontsize = fnt_size)\n",
    "        ax.grid()\n",
    "        ax.grid(alpha = 0.7)\n",
    "        ax.set_xlim(min(I),max(I))\n",
    "        ax.minorticks_on()\n",
    "        \n",
    "        ax.scatter(I,V,color = 'cornflowerblue')\n",
    "        ax.scatter(I[i-1],V[i-1],color = 'Tomato')\n",
    "\n",
    "        fig_path = f'Paschen {file.rstrip(\".csv\")}.{fig_format}'\n",
    "\n",
    "        fig.savefig(f'./25-10/Figuras/Paschen/{fig_path}',dpi = 800, bbox_inches = 'tight')\n",
    "        plt.close(fig) #Closes the fig instance so as to not use to much memory \n",
    "\n",
    "\n",
    "    "
   ]
  },
  {
   "cell_type": "code",
   "execution_count": 170,
   "metadata": {},
   "outputs": [
    {
     "name": "stdout",
     "output_type": "stream",
     "text": [
      "V ruptura\n",
      "[536.4067, 396.4614, 580.3889, 421.4296, 478.5731, 660.7022, 526.981, 310.8383, 470.2013, 420.9024, 537.5594, 598.5207, 432.4641, 406.5215, 409.1362, 386.1035, 969.4933, 481.1804, 451.2982, 403.8912, 558.1955]\n",
      "paschen nr\n",
      "[1.71094243 1.73747212 1.50269221 1.70596051 1.79581404 1.99100358\n",
      " 1.15003406 0.61835111 1.0035417  0.56870076 1.05760992 1.52900139\n",
      " 0.82144915 0.44038015 0.27004482 0.39791164 0.11332724 0.46030555\n",
      " 0.46067683 0.31592611 0.30770543]\n"
     ]
    }
   ],
   "source": [
    "print(f'V ruptura')\n",
    "print(V_ruptura)\n",
    "print(f'paschen nr')\n",
    "print(paschen_nr)"
   ]
  },
  {
   "cell_type": "code",
   "execution_count": 169,
   "metadata": {},
   "outputs": [
    {
     "data": {
      "image/png": "[encoded data removed]",
      "text/plain": [
       "<Figure size 1200x700 with 1 Axes>"
      ]
     },
     "metadata": {},
     "output_type": "display_data"
    }
   ],
   "source": [
    "fig, ax = plt.subplots(figsize = (12,7))\n",
    "\n",
    "ax.scatter(paschen_nr,V_ruptura,color = 'cornflowerblue');\n"
   ]
  },
  {
   "cell_type": "code",
   "execution_count": 82,
   "metadata": {},
   "outputs": [],
   "source": [
    "import plotly.express as px\n",
    "import plotly.graph_objects as go"
   ]
  },
  {
   "cell_type": "code",
   "execution_count": 189,
   "metadata": {},
   "outputs": [
    {
     "name": "stdout",
     "output_type": "stream",
     "text": [
      "12 21\n"
     ]
    }
   ],
   "source": [
    "# V_ruptura = [536.4067 , 396.4614 , 580.3889 ,  421.4296 , 478.5731,\n",
    "#              660.7022, 526.981, 310.8383, 470.2013, 420.9024, 537.5594,\n",
    "#               598.5207, 432.4641, 406.5215, 409.1362, 386.1035, 969.4933,\n",
    "#                481.1804, 451.2982, 403.8912, 558.1955]\n",
    "\n",
    "# paschen_nr_revised = [1.71094243, 1.73747212, 1.50269221, 1.70596051, 1.79581404, 1.99100358,\n",
    "#  1.15003406, 0.61835111, 1.0035417,  0.56870076, 1.05760992, 1.52900139,\n",
    "#  0.82144915, 0.44038015, 0.27004482, 0.39791164, 0.11332724, 0.46030555,\n",
    "#  0.46067683, 0.31592611, 0.30770543]\n",
    "\n",
    "V_ruptura = [ 580.3889,\n",
    "             660.7022, 526.981, 470.2013, 420.9024, 537.5594,\n",
    "              598.5207, 432.4641, 969.4933,\n",
    "               481.1804, 451.2982, 558.1955]\n",
    "\n",
    "paschen_nr_revised = [ 1.50269221,\n",
    "                       1.99100358, 1.15003406, 1.0035417,  0.56870076, 1.05760992,\n",
    "                         1.52900139, 0.82144915, 0.11332724,\n",
    "                         0.46030555, 0.46067683, 0.30770543]\n",
    "print(len(V_ruptura),len(paschen_nr))"
   ]
  },
  {
   "cell_type": "code",
   "execution_count": 190,
   "metadata": {},
   "outputs": [
    {
     "data": {
      "image/png": "[encoded data removed]",
      "text/plain": [
       "<Figure size 1200x700 with 1 Axes>"
      ]
     },
     "metadata": {},
     "output_type": "display_data"
    }
   ],
   "source": [
    "fig, ax = plt.subplots(figsize = (12,7))\n",
    "\n",
    "ax.scatter(paschen_nr_revised,V_ruptura,color = 'cornflowerblue');"
   ]
  },
  {
   "cell_type": "code",
   "execution_count": 164,
   "metadata": {},
   "outputs": [
    {
     "data": {
      "application/vnd.plotly.v1+json": {
       "config": {
        "plotlyServerURL": "https://plot.ly"
       },
       "data": [
        {
         "hovertemplate": "x=%{x}<br>y=%{y}<extra></extra>",
         "legendgroup": "",
         "marker": {
          "color": "#636efa",
          "symbol": "circle"
         },
         "mode": "markers",
         "name": "",
         "orientation": "v",
         "showlegend": false,
         "type": "scatter",
         "x": [
          0.0033352027027027,
          0.0043651351351351,
          0.0040679729729729,
          0.0038130405405405,
          0.0050372972972972,
          0.0037549324324324,
          0.0040229054054054,
          0.00009958108108108108,
          1.0094594594594597e-7,
          7e-8,
          7.277027027027029e-8,
          7.668918918918919e-8,
          6.297297297297299e-8,
          5.4527027027027036e-8,
          6.155405405405405e-8
         ],
         "xaxis": "x",
         "y": [
          738.1203997985326,
          985.783142634933,
          940.8588020188506,
          950.2098769168812,
          929.6277273022552,
          949.8340724795556,
          944.141315407304,
          558.1954673455621,
          253.62720774974704,
          143.84378965158655,
          81.9263101947958,
          46.63796960074087,
          26.4335395154391,
          15.099773165475243,
          8.573574584380196
         ],
         "yaxis": "y"
        }
       ],
       "layout": {
        "legend": {
         "tracegroupgap": 0
        },
        "template": {
         "data": {
          "bar": [
           {
            "error_x": {
             "color": "#2a3f5f"
            },
            "error_y": {
             "color": "#2a3f5f"
            },
            "marker": {
             "line": {
              "color": "#E5ECF6",
              "width": 0.5
             },
             "pattern": {
              "fillmode": "overlay",
              "size": 10,
              "solidity": 0.2
             }
            },
            "type": "bar"
           }
          ],
          "barpolar": [
           {
            "marker": {
             "line": {
              "color": "#E5ECF6",
              "width": 0.5
             },
             "pattern": {
              "fillmode": "overlay",
              "size": 10,
              "solidity": 0.2
             }
            },
            "type": "barpolar"
           }
          ],
          "carpet": [
           {
            "aaxis": {
             "endlinecolor": "#2a3f5f",
             "gridcolor": "white",
             "linecolor": "white",
             "minorgridcolor": "white",
             "startlinecolor": "#2a3f5f"
            },
            "baxis": {
             "endlinecolor": "#2a3f5f",
             "gridcolor": "white",
             "linecolor": "white",
             "minorgridcolor": "white",
             "startlinecolor": "#2a3f5f"
            },
            "type": "carpet"
           }
          ],
          "choropleth": [
           {
            "colorbar": {
             "outlinewidth": 0,
             "ticks": ""
            },
            "type": "choropleth"
           }
          ],
          "contour": [
           {
            "colorbar": {
             "outlinewidth": 0,
             "ticks": ""
            },
            "colorscale": [
             [
              0,
              "#0d0887"
             ],
             [
              0.1111111111111111,
              "#46039f"
             ],
             [
              0.2222222222222222,
              "#7201a8"
             ],
             [
              0.3333333333333333,
              "#9c179e"
             ],
             [
              0.4444444444444444,
              "#bd3786"
             ],
             [
              0.5555555555555556,
              "#d8576b"
             ],
             [
              0.6666666666666666,
              "#ed7953"
             ],
             [
              0.7777777777777778,
              "#fb9f3a"
             ],
             [
              0.8888888888888888,
              "#fdca26"
             ],
             [
              1,
              "#f0f921"
             ]
            ],
            "type": "contour"
           }
          ],
          "contourcarpet": [
           {
            "colorbar": {
             "outlinewidth": 0,
             "ticks": ""
            },
            "type": "contourcarpet"
           }
          ],
          "heatmap": [
           {
            "colorbar": {
             "outlinewidth": 0,
             "ticks": ""
            },
            "colorscale": [
             [
              0,
              "#0d0887"
             ],
             [
              0.1111111111111111,
              "#46039f"
             ],
             [
              0.2222222222222222,
              "#7201a8"
             ],
             [
              0.3333333333333333,
              "#9c179e"
             ],
             [
              0.4444444444444444,
              "#bd3786"
             ],
             [
              0.5555555555555556,
              "#d8576b"
             ],
             [
              0.6666666666666666,
              "#ed7953"
             ],
             [
              0.7777777777777778,
              "#fb9f3a"
             ],
             [
              0.8888888888888888,
              "#fdca26"
             ],
             [
              1,
              "#f0f921"
             ]
            ],
            "type": "heatmap"
           }
          ],
          "heatmapgl": [
           {
            "colorbar": {
             "outlinewidth": 0,
             "ticks": ""
            },
            "colorscale": [
             [
              0,
              "#0d0887"
             ],
             [
              0.1111111111111111,
              "#46039f"
             ],
             [
              0.2222222222222222,
              "#7201a8"
             ],
             [
              0.3333333333333333,
              "#9c179e"
             ],
             [
              0.4444444444444444,
              "#bd3786"
             ],
             [
              0.5555555555555556,
              "#d8576b"
             ],
             [
              0.6666666666666666,
              "#ed7953"
             ],
             [
              0.7777777777777778,
              "#fb9f3a"
             ],
             [
              0.8888888888888888,
              "#fdca26"
             ],
             [
              1,
              "#f0f921"
             ]
            ],
            "type": "heatmapgl"
           }
          ],
          "histogram": [
           {
            "marker": {
             "pattern": {
              "fillmode": "overlay",
              "size": 10,
              "solidity": 0.2
             }
            },
            "type": "histogram"
           }
          ],
          "histogram2d": [
           {
            "colorbar": {
             "outlinewidth": 0,
             "ticks": ""
            },
            "colorscale": [
             [
              0,
              "#0d0887"
             ],
             [
              0.1111111111111111,
              "#46039f"
             ],
             [
              0.2222222222222222,
              "#7201a8"
             ],
             [
              0.3333333333333333,
              "#9c179e"
             ],
             [
              0.4444444444444444,
              "#bd3786"
             ],
             [
              0.5555555555555556,
              "#d8576b"
             ],
             [
              0.6666666666666666,
              "#ed7953"
             ],
             [
              0.7777777777777778,
              "#fb9f3a"
             ],
             [
              0.8888888888888888,
              "#fdca26"
             ],
             [
              1,
              "#f0f921"
             ]
            ],
            "type": "histogram2d"
           }
          ],
          "histogram2dcontour": [
           {
            "colorbar": {
             "outlinewidth": 0,
             "ticks": ""
            },
            "colorscale": [
             [
              0,
              "#0d0887"
             ],
             [
              0.1111111111111111,
              "#46039f"
             ],
             [
              0.2222222222222222,
              "#7201a8"
             ],
             [
              0.3333333333333333,
              "#9c179e"
             ],
             [
              0.4444444444444444,
              "#bd3786"
             ],
             [
              0.5555555555555556,
              "#d8576b"
             ],
             [
              0.6666666666666666,
              "#ed7953"
             ],
             [
              0.7777777777777778,
              "#fb9f3a"
             ],
             [
              0.8888888888888888,
              "#fdca26"
             ],
             [
              1,
              "#f0f921"
             ]
            ],
            "type": "histogram2dcontour"
           }
          ],
          "mesh3d": [
           {
            "colorbar": {
             "outlinewidth": 0,
             "ticks": ""
            },
            "type": "mesh3d"
           }
          ],
          "parcoords": [
           {
            "line": {
             "colorbar": {
              "outlinewidth": 0,
              "ticks": ""
             }
            },
            "type": "parcoords"
           }
          ],
          "pie": [
           {
            "automargin": true,
            "type": "pie"
           }
          ],
          "scatter": [
           {
            "fillpattern": {
             "fillmode": "overlay",
             "size": 10,
             "solidity": 0.2
            },
            "type": "scatter"
           }
          ],
          "scatter3d": [
           {
            "line": {
             "colorbar": {
              "outlinewidth": 0,
              "ticks": ""
             }
            },
            "marker": {
             "colorbar": {
              "outlinewidth": 0,
              "ticks": ""
             }
            },
            "type": "scatter3d"
           }
          ],
          "scattercarpet": [
           {
            "marker": {
             "colorbar": {
              "outlinewidth": 0,
              "ticks": ""
             }
            },
            "type": "scattercarpet"
           }
          ],
          "scattergeo": [
           {
            "marker": {
             "colorbar": {
              "outlinewidth": 0,
              "ticks": ""
             }
            },
            "type": "scattergeo"
           }
          ],
          "scattergl": [
           {
            "marker": {
             "colorbar": {
              "outlinewidth": 0,
              "ticks": ""
             }
            },
            "type": "scattergl"
           }
          ],
          "scattermapbox": [
           {
            "marker": {
             "colorbar": {
              "outlinewidth": 0,
              "ticks": ""
             }
            },
            "type": "scattermapbox"
           }
          ],
          "scatterpolar": [
           {
            "marker": {
             "colorbar": {
              "outlinewidth": 0,
              "ticks": ""
             }
            },
            "type": "scatterpolar"
           }
          ],
          "scatterpolargl": [
           {
            "marker": {
             "colorbar": {
              "outlinewidth": 0,
              "ticks": ""
             }
            },
            "type": "scatterpolargl"
           }
          ],
          "scatterternary": [
           {
            "marker": {
             "colorbar": {
              "outlinewidth": 0,
              "ticks": ""
             }
            },
            "type": "scatterternary"
           }
          ],
          "surface": [
           {
            "colorbar": {
             "outlinewidth": 0,
             "ticks": ""
            },
            "colorscale": [
             [
              0,
              "#0d0887"
             ],
             [
              0.1111111111111111,
              "#46039f"
             ],
             [
              0.2222222222222222,
              "#7201a8"
             ],
             [
              0.3333333333333333,
              "#9c179e"
             ],
             [
              0.4444444444444444,
              "#bd3786"
             ],
             [
              0.5555555555555556,
              "#d8576b"
             ],
             [
              0.6666666666666666,
              "#ed7953"
             ],
             [
              0.7777777777777778,
              "#fb9f3a"
             ],
             [
              0.8888888888888888,
              "#fdca26"
             ],
             [
              1,
              "#f0f921"
             ]
            ],
            "type": "surface"
           }
          ],
          "table": [
           {
            "cells": {
             "fill": {
              "color": "#EBF0F8"
             },
             "line": {
              "color": "white"
             }
            },
            "header": {
             "fill": {
              "color": "#C8D4E3"
             },
             "line": {
              "color": "white"
             }
            },
            "type": "table"
           }
          ]
         },
         "layout": {
          "annotationdefaults": {
           "arrowcolor": "#2a3f5f",
           "arrowhead": 0,
           "arrowwidth": 1
          },
          "autotypenumbers": "strict",
          "coloraxis": {
           "colorbar": {
            "outlinewidth": 0,
            "ticks": ""
           }
          },
          "colorscale": {
           "diverging": [
            [
             0,
             "#8e0152"
            ],
            [
             0.1,
             "#c51b7d"
            ],
            [
             0.2,
             "#de77ae"
            ],
            [
             0.3,
             "#f1b6da"
            ],
            [
             0.4,
             "#fde0ef"
            ],
            [
             0.5,
             "#f7f7f7"
            ],
            [
             0.6,
             "#e6f5d0"
            ],
            [
             0.7,
             "#b8e186"
            ],
            [
             0.8,
             "#7fbc41"
            ],
            [
             0.9,
             "#4d9221"
            ],
            [
             1,
             "#276419"
            ]
           ],
           "sequential": [
            [
             0,
             "#0d0887"
            ],
            [
             0.1111111111111111,
             "#46039f"
            ],
            [
             0.2222222222222222,
             "#7201a8"
            ],
            [
             0.3333333333333333,
             "#9c179e"
            ],
            [
             0.4444444444444444,
             "#bd3786"
            ],
            [
             0.5555555555555556,
             "#d8576b"
            ],
            [
             0.6666666666666666,
             "#ed7953"
            ],
            [
             0.7777777777777778,
             "#fb9f3a"
            ],
            [
             0.8888888888888888,
             "#fdca26"
            ],
            [
             1,
             "#f0f921"
            ]
           ],
           "sequentialminus": [
            [
             0,
             "#0d0887"
            ],
            [
             0.1111111111111111,
             "#46039f"
            ],
            [
             0.2222222222222222,
             "#7201a8"
            ],
            [
             0.3333333333333333,
             "#9c179e"
            ],
            [
             0.4444444444444444,
             "#bd3786"
            ],
            [
             0.5555555555555556,
             "#d8576b"
            ],
            [
             0.6666666666666666,
             "#ed7953"
            ],
            [
             0.7777777777777778,
             "#fb9f3a"
            ],
            [
             0.8888888888888888,
             "#fdca26"
            ],
            [
             1,
             "#f0f921"
            ]
           ]
          },
          "colorway": [
           "#636efa",
           "#EF553B",
           "#00cc96",
           "#ab63fa",
           "#FFA15A",
           "#19d3f3",
           "#FF6692",
           "#B6E880",
           "#FF97FF",
           "#FECB52"
          ],
          "font": {
           "color": "#2a3f5f"
          },
          "geo": {
           "bgcolor": "white",
           "lakecolor": "white",
           "landcolor": "#E5ECF6",
           "showlakes": true,
           "showland": true,
           "subunitcolor": "white"
          },
          "hoverlabel": {
           "align": "left"
          },
          "hovermode": "closest",
          "mapbox": {
           "style": "light"
          },
          "paper_bgcolor": "white",
          "plot_bgcolor": "#E5ECF6",
          "polar": {
           "angularaxis": {
            "gridcolor": "white",
            "linecolor": "white",
            "ticks": ""
           },
           "bgcolor": "#E5ECF6",
           "radialaxis": {
            "gridcolor": "white",
            "linecolor": "white",
            "ticks": ""
           }
          },
          "scene": {
           "xaxis": {
            "backgroundcolor": "#E5ECF6",
            "gridcolor": "white",
            "gridwidth": 2,
            "linecolor": "white",
            "showbackground": true,
            "ticks": "",
            "zerolinecolor": "white"
           },
           "yaxis": {
            "backgroundcolor": "#E5ECF6",
            "gridcolor": "white",
            "gridwidth": 2,
            "linecolor": "white",
            "showbackground": true,
            "ticks": "",
            "zerolinecolor": "white"
           },
           "zaxis": {
            "backgroundcolor": "#E5ECF6",
            "gridcolor": "white",
            "gridwidth": 2,
            "linecolor": "white",
            "showbackground": true,
            "ticks": "",
            "zerolinecolor": "white"
           }
          },
          "shapedefaults": {
           "line": {
            "color": "#2a3f5f"
           }
          },
          "ternary": {
           "aaxis": {
            "gridcolor": "white",
            "linecolor": "white",
            "ticks": ""
           },
           "baxis": {
            "gridcolor": "white",
            "linecolor": "white",
            "ticks": ""
           },
           "bgcolor": "#E5ECF6",
           "caxis": {
            "gridcolor": "white",
            "linecolor": "white",
            "ticks": ""
           }
          },
          "title": {
           "x": 0.05
          },
          "xaxis": {
           "automargin": true,
           "gridcolor": "white",
           "linecolor": "white",
           "ticks": "",
           "title": {
            "standoff": 15
           },
           "zerolinecolor": "white",
           "zerolinewidth": 2
          },
          "yaxis": {
           "automargin": true,
           "gridcolor": "white",
           "linecolor": "white",
           "ticks": "",
           "title": {
            "standoff": 15
           },
           "zerolinecolor": "white",
           "zerolinewidth": 2
          }
         }
        },
        "title": {
         "text": "Medición nro 64.csv"
        },
        "xaxis": {
         "anchor": "y",
         "domain": [
          0,
          1
         ],
         "title": {
          "text": "x"
         }
        },
        "yaxis": {
         "anchor": "x",
         "domain": [
          0,
          1
         ],
         "title": {
          "text": "y"
         }
        }
       }
      }
     },
     "metadata": {},
     "output_type": "display_data"
    }
   ],
   "source": [
    "file = onlyfiles[23]\n",
    "\n",
    "df = pd.read_csv(join(path,file))\n",
    "# paschen_df = df.loc[df['I'] < 10**(-5)]\n",
    "I = df['I'].values\n",
    "V = df['V'].values\n",
    "d = df['Distancia'].values\n",
    "P = df['P'].values\n",
    "mean_pressure = np.mean(P)\n",
    "\n",
    "end = 15\n",
    "fig = px.scatter(None,y = V[:end], x = I[:end], title = f'{file}')\n",
    "fig.show()"
   ]
  },
  {
   "cell_type": "code",
   "execution_count": 89,
   "metadata": {},
   "outputs": [
    {
     "name": "stdout",
     "output_type": "stream",
     "text": [
      "225.1594573681008\n",
      "278.51223927841454\n",
      "315.3888114727445\n",
      "352.3612503921373\n",
      "388.4186456088912\n",
      "425.3946408230293\n",
      "462.6203970356646\n",
      "498.936060862627\n",
      "536.4067469515085\n"
     ]
    }
   ],
   "source": [
    "i = 0\n",
    "while I[i] < 10**(-6):\n",
    "        print(V[i])\n",
    "        i += 1"
   ]
  }
 ],
 "metadata": {
  "kernelspec": {
   "display_name": "Python 3",
   "language": "python",
   "name": "python3"
  },
  "language_info": {
   "codemirror_mode": {
    "name": "ipython",
    "version": 3
   },
   "file_extension": ".py",
   "mimetype": "text/x-python",
   "name": "python",
   "nbconvert_exporter": "python",
   "pygments_lexer": "ipython3",
   "version": "3.11.9"
  }
 },
 "nbformat": 4,
 "nbformat_minor": 2
}
